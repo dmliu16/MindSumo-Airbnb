{
 "cells": [
  {
   "cell_type": "code",
   "execution_count": 56,
   "metadata": {},
   "outputs": [
    {
     "data": {
      "image/png": "[encoded data removed]",
      "text/plain": [
       "<matplotlib.figure.Figure at 0x12d042f98>"
      ]
     },
     "metadata": {},
     "output_type": "display_data"
    }
   ],
   "source": [
    "import copy\n",
    "\n",
    "from datascience import *\n",
    "import numpy as np\n",
    "\n",
    "%matplotlib inline\n",
    "import matplotlib.pyplot as plots\n",
    "plots.style.use('fivethirtyeight')\n",
    "\n",
    "facilities_price = Table.read_table('facilities_price.csv')\n",
    "# there are roughly 9000 different Airbnb\n",
    "# we just parse it by roughly 15, so 600 left\n",
    "facilities_price = facilities_price.take(np.arange(0, facilities_price.num_rows, 15))\n",
    "\n",
    "# we need to take out the outliers\n",
    "def no_outliers(table, col):\n",
    "    average = np.mean(table.column(col))\n",
    "    std = np.std(table.column(col))\n",
    "    # only need 1.2 standard deviations\n",
    "    # this covers roughly 76 percent of the graph if we assume the graph is normal\n",
    "    return table.where(col, are.between(average-1.2*std,average+1.2*std))\n",
    "\n",
    "facilities_price = no_outliers(facilities_price, \"week_price\")\n",
    "\n",
    "# in this one we are tryting to compare the importance of certain facilities\n",
    "# we need to do that by hosting the number of beds as constant\n",
    "# and we choose 2 beds because that's the most often seen one\n",
    "two_bed = facilities_price.where(\"beds\", are.equal_to(2))\n",
    "\n",
    "facilities = np.array([\"TV\",\"Wireless Internet\",\"Kitchen\",\"Heating\"])\n",
    "TV_price, Wireless_price, Kitchen_price, Heating_price = 0, 0, 0, 0\n",
    "TV_count, Wireless_count, Kitchen_count, Heating_count = 0, 0, 0, 0\n",
    "\n",
    "for i in range(two_bed.num_rows):\n",
    "    current = two_bed.take(i)\n",
    "    for facility in facilities:\n",
    "        if facility in current.column(\"amenities\")[0]:\n",
    "            # if it has tv\n",
    "            if facility == \"TV\":\n",
    "                TV_count += 1\n",
    "                TV_price += current.column(\"week_price\")[0]\n",
    "            # if it has a wireless internet\n",
    "            if facility == \"Wireless Internet\":\n",
    "                Wireless_count += 1\n",
    "                Wireless_price += current.column(\"week_price\")[0]\n",
    "            # if it has a kitchen\n",
    "            if facility == \"Kitchen\":\n",
    "                Kitchen_count += 1\n",
    "                Kitchen_price += current.column(\"week_price\")[0]\n",
    "            # if it has a Heating system\n",
    "            if facility == \"Heating\":\n",
    "                Heating_count += 1\n",
    "                Heating_price += current.column(\"week_price\")[0]\n",
    "                \n",
    "# now we need to know the average which is simpy price/count\n",
    "TV_ave = TV_price/TV_count - 1500\n",
    "W_ave = Wireless_price/Wireless_count - 1500\n",
    "K_ave = Kitchen_price/Kitchen_count - 1500\n",
    "H_ave = Heating_price/Heating_count - 1500\n",
    "\n",
    "sum = TV_ave + W_ave + K_ave + H_ave\n",
    "\n",
    "TV_per = TV_ave/sum\n",
    "W_per = W_ave/sum\n",
    "K_per = K_ave/sum\n",
    "H_per = H_ave/sum\n",
    "    \n",
    "# lets make an array with the ave price\n",
    "price_ave = np.array([TV_ave,W_ave,K_ave,H_ave])\n",
    "facilities_price = Table().with_column(\"facility\",facilities,\"average price\",price_ave)\n",
    "facilities_price.barh(0)"
   ]
  },
  {
   "cell_type": "code",
   "execution_count": null,
   "metadata": {
    "collapsed": true
   },
   "outputs": [],
   "source": []
  }
 ],
 "metadata": {
  "kernelspec": {
   "display_name": "Python 3",
   "language": "python",
   "name": "python3"
  },
  "language_info": {
   "codemirror_mode": {
    "name": "ipython",
    "version": 3
   },
   "file_extension": ".py",
   "mimetype": "text/x-python",
   "name": "python",
   "nbconvert_exporter": "python",
   "pygments_lexer": "ipython3",
   "version": "3.6.1"
  }
 },
 "nbformat": 4,
 "nbformat_minor": 2
}
